{
 "cells": [
  {
   "cell_type": "markdown",
   "id": "b62c39b2-82c0-49b1-834b-e22af12048fb",
   "metadata": {},
   "source": [
    "#DataScienceEcosystem"
   ]
  },
  {
   "cell_type": "markdown",
   "id": "7d20a33c-4cf1-410c-b3ab-efe414d4c130",
   "metadata": {
    "tags": []
   },
   "source": [
    "##author \\ Ahmed Aloraij\n",
    "  "
   ]
  },
  {
   "cell_type": "markdown",
   "id": "c43dd6ce-600c-4b82-bc7e-710222aefef9",
   "metadata": {},
   "source": [
    "In this notebook Data Science Tools and Ecosystem are summarized."
   ]
  },
  {
   "cell_type": "markdown",
   "id": "ee1ddbce-2657-4a1c-810b-677beb12ef7c",
   "metadata": {},
   "source": [
    "__Objectives:__\n",
    "-list poplar languages that data scientist use\n",
    "-list some of the commonly used libraries used by data scientists\n",
    "-list some of the arithmtic expression "
   ]
  },
  {
   "cell_type": "markdown",
   "id": "6d7ffe0e-e3b3-41b0-a945-8f4ce94d1eba",
   "metadata": {},
   "source": [
    "Some of the popular languages that Data Scientists use are:\n",
    "1-R\n",
    "2-SQL\n",
    "3-Julia\n",
    "\n"
   ]
  },
  {
   "cell_type": "markdown",
   "id": "48da5e85-4208-495a-af13-8df29ac7f14a",
   "metadata": {},
   "source": [
    "Some of the commonly used libraries used by Data Scientists include:\n",
    "1-pandas\n",
    "2-numpy\n",
    "3-scipy\n"
   ]
  },
  {
   "cell_type": "markdown",
   "id": "ac7f7dd0-7409-431d-bdca-2ba0775de77b",
   "metadata": {
    "tags": []
   },
   "source": [
    "|data science tools |\n",
    "|:------------------:|\n",
    "|Apache Spark|\n",
    "|IBM SPSS|\n",
    "|Julia|\n"
   ]
  },
  {
   "cell_type": "markdown",
   "id": "1aad2686-bd65-43db-8579-8e0a327e5ef7",
   "metadata": {},
   "source": [
    "###some of  a few examples of evaluating arithmetic expressions in Python.\n",
    "+\n",
    "-\n",
    "*\n"
   ]
  },
  {
   "cell_type": "code",
   "execution_count": 4,
   "id": "4d679baa-173e-4f81-99b2-b0df4698747f",
   "metadata": {
    "tags": []
   },
   "outputs": [
    {
     "data": {
      "text/plain": [
       "17"
      ]
     },
     "execution_count": 4,
     "metadata": {},
     "output_type": "execute_result"
    }
   ],
   "source": [
    " #This a simple arithmetic expression to mutiply then add integers.\n",
    "\n",
    "(3*4)+5\n",
    "    "
   ]
  },
  {
   "cell_type": "code",
   "execution_count": 5,
   "id": "96cb40e9-3d8d-4147-a008-41dc81e7bf0d",
   "metadata": {
    "tags": []
   },
   "outputs": [
    {
     "data": {
      "text/plain": [
       "3.3333333333333335"
      ]
     },
     "execution_count": 5,
     "metadata": {},
     "output_type": "execute_result"
    }
   ],
   "source": [
    "# This will convert 200 minutes to hours by diving by 60.\n",
    "200/60"
   ]
  },
  {
   "cell_type": "code",
   "execution_count": null,
   "id": "96be1a41-a76d-4fcc-8fa3-0df5369cc417",
   "metadata": {},
   "outputs": [],
   "source": []
  }
 ],
 "metadata": {
  "kernelspec": {
   "display_name": "Python",
   "language": "python",
   "name": "conda-env-python-py"
  },
  "language_info": {
   "codemirror_mode": {
    "name": "ipython",
    "version": 3
   },
   "file_extension": ".py",
   "mimetype": "text/x-python",
   "name": "python",
   "nbconvert_exporter": "python",
   "pygments_lexer": "ipython3",
   "version": "3.7.12"
  }
 },
 "nbformat": 4,
 "nbformat_minor": 5
}
